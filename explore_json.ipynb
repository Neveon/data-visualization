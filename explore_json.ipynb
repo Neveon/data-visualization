{
 "cells": [
  {
   "cell_type": "markdown",
   "metadata": {},
   "source": [
    "# JSON of Counties\n",
    "\n",
    "The dataset parsed is from [this github](https://github.com/evangambit/JsonOfCounties)"
   ]
  },
  {
   "cell_type": "code",
   "execution_count": 100,
   "metadata": {},
   "outputs": [],
   "source": [
    "import json\n",
    "import csv"
   ]
  },
  {
   "cell_type": "code",
   "execution_count": 101,
   "metadata": {},
   "outputs": [],
   "source": [
    "with open('counties.json') as json_file:\n",
    "   jsondata = json.load(json_file)"
   ]
  },
  {
   "cell_type": "markdown",
   "metadata": {},
   "source": [
    "# List of States\n",
    "\n",
    "Each state dictionary holds several counties which holds several values themselves. \n",
    "\n",
    "`county_attributes.txt` will be used to only select a few of these values for the data visualization project."
   ]
  },
  {
   "cell_type": "code",
   "execution_count": 102,
   "metadata": {},
   "outputs": [
    {
     "name": "stdout",
     "output_type": "stream",
     "text": [
      "dict_keys(['Nebraska', 'Washington', 'New Mexico', 'South Dakota', 'Texas', 'California', 'Kentucky', 'Ohio', 'Alabama', 'Georgia', 'Wisconsin', 'Arkansas', 'Oregon', 'Pennsylvania', 'Mississippi', 'Missouri', 'Colorado', 'North Carolina', 'Utah', 'Oklahoma', 'Virginia', 'Tennessee', 'Wyoming', 'West Virginia', 'Louisiana', 'New York', 'Michigan', 'Indiana', 'Massachusetts', 'Kansas', 'Idaho', 'Florida', 'Alaska', 'Nevada', 'Illinois', 'Vermont', 'Connecticut', 'Montana', 'New Jersey', 'Minnesota', 'North Dakota', 'Maryland', 'Iowa', 'South Carolina', 'Maine', 'Hawaii', 'New Hampshire', 'Arizona', 'Delaware', 'District of Columbia', 'Rhode Island'])\n"
     ]
    }
   ],
   "source": [
    "#states\n",
    "print(jsondata.keys())\n",
    "\n",
    "# To add to headers\n",
    "county_attributes = []"
   ]
  },
  {
   "cell_type": "markdown",
   "metadata": {},
   "source": [
    "# Cost of Living\n",
    "\n",
    "The cost of living dict is broken down into 5 categories.\n",
    "\n",
    "<b>For 1 adult and 0 children</b>\n",
    "\n",
    "`living_wage`\n",
    "\n",
    "`food_costs`\n",
    "\n",
    "`medical_costs`\n",
    "\n",
    "`housing_costs`\n",
    "\n",
    "`tax_costs`"
   ]
  },
  {
   "cell_type": "code",
   "execution_count": 103,
   "metadata": {},
   "outputs": [
    {
     "name": "stdout",
     "output_type": "stream",
     "text": [
      "['living_wage', 'food_costs', 'medical_costs', 'housing_costs', 'tax_costs']\n"
     ]
    }
   ],
   "source": [
    "for state in jsondata.keys():\n",
    "\tfor county in jsondata[state].keys():\n",
    "\t\t# print(jsondata[state][county]['cost-of-living'])\n",
    "\t\tfor attr in jsondata[state][county]['cost-of-living']:\n",
    "\t\t\tcounty_attributes.append(attr)\n",
    "\t\tbreak\n",
    "\tbreak\n",
    "\n",
    "print(county_attributes)"
   ]
  },
  {
   "cell_type": "markdown",
   "metadata": {},
   "source": [
    "# Poverty Rate"
   ]
  },
  {
   "cell_type": "code",
   "execution_count": 104,
   "metadata": {},
   "outputs": [
    {
     "name": "stdout",
     "output_type": "stream",
     "text": [
      "8.9\n"
     ]
    }
   ],
   "source": [
    "for state in jsondata.keys():\n",
    "\tfor county in jsondata[state].keys():\n",
    "\t\tprint(jsondata[state][county]['poverty-rate'])\n",
    "\t\tbreak\n",
    "\tbreak\n",
    "\n",
    "county_attributes.append('poverty-rate')"
   ]
  },
  {
   "cell_type": "markdown",
   "metadata": {},
   "source": [
    "# Election Data\n",
    "\n",
    "Per year:\n",
    "\n",
    "`total`\n",
    "\n",
    "`dem`\n",
    "\n",
    "`gop`\n",
    "\n",
    "\n",
    "### Note for Project:\n",
    "\n",
    "I chose not to include this in my data visualization. Maybe I will consider it for the future."
   ]
  },
  {
   "cell_type": "code",
   "execution_count": 105,
   "metadata": {},
   "outputs": [
    {
     "name": "stdout",
     "output_type": "stream",
     "text": [
      "{'2008': {'total': 4087, 'dem': 1274, 'gop': 2732}, '2012': {'total': 3928, 'dem': 1015, 'gop': 2858}, '2016': {'total': 3988, 'dem': 712, 'gop': 3095}, '2020': {'total': 4451, 'dem': 870, 'gop': 3507}}\n"
     ]
    }
   ],
   "source": [
    "for state in jsondata.keys():\n",
    "\tfor county in jsondata[state].keys():\n",
    "\t\tprint(jsondata[state][county]['elections'])\n",
    "\t\tbreak\n",
    "\tbreak"
   ]
  },
  {
   "cell_type": "markdown",
   "metadata": {},
   "source": [
    "# Average Income"
   ]
  },
  {
   "cell_type": "code",
   "execution_count": 106,
   "metadata": {},
   "outputs": [
    {
     "name": "stdout",
     "output_type": "stream",
     "text": [
      "58610\n"
     ]
    }
   ],
   "source": [
    "for state in jsondata.keys():\n",
    "\tfor county in jsondata[state].keys():\n",
    "\t\tprint(jsondata[state][county]['avg_income'])\n",
    "\t\tbreak\n",
    "\tbreak\n",
    "\n",
    "county_attributes.append('avg_income')"
   ]
  },
  {
   "cell_type": "markdown",
   "metadata": {},
   "source": [
    "# Population per Year\n",
    "\n",
    "`YYYY`"
   ]
  },
  {
   "cell_type": "code",
   "execution_count": 107,
   "metadata": {},
   "outputs": [
    {
     "name": "stdout",
     "output_type": "stream",
     "text": [
      "{'2010': 9160, '2011': 9117, '2012': 9082, '2013': 9010, '2014': 9017, '2015': 9075, '2016': 8957, '2017': 8947, '2018': 8935, '2019': 8846}\n"
     ]
    }
   ],
   "source": [
    "# By year - 2010 to 2019\n",
    "for state in jsondata.keys():\n",
    "\tfor county in jsondata[state].keys():\n",
    "\t\tprint(jsondata[state][county]['population'])\n",
    "\t\tbreak\n",
    "\tbreak"
   ]
  },
  {
   "cell_type": "markdown",
   "metadata": {},
   "source": [
    "# Male Population"
   ]
  },
  {
   "cell_type": "code",
   "execution_count": 108,
   "metadata": {},
   "outputs": [
    {
     "name": "stdout",
     "output_type": "stream",
     "text": [
      "4435\n"
     ]
    }
   ],
   "source": [
    "# Most current male pop.\n",
    "for state in jsondata.keys():\n",
    "\tfor county in jsondata[state].keys():\n",
    "\t\tprint(jsondata[state][county]['male'])\n",
    "\t\tbreak\n",
    "\tbreak\n",
    "\n",
    "county_attributes.append('male')"
   ]
  },
  {
   "cell_type": "markdown",
   "metadata": {},
   "source": [
    "# Female Population"
   ]
  },
  {
   "cell_type": "code",
   "execution_count": 109,
   "metadata": {},
   "outputs": [
    {
     "name": "stdout",
     "output_type": "stream",
     "text": [
      "4411\n"
     ]
    }
   ],
   "source": [
    "# Most current female pop.\n",
    "for state in jsondata.keys():\n",
    "\tfor county in jsondata[state].keys():\n",
    "\t\tprint(jsondata[state][county]['female'])\n",
    "\t\tbreak\n",
    "\tbreak\n",
    "\n",
    "county_attributes.append('female')"
   ]
  },
  {
   "cell_type": "markdown",
   "metadata": {},
   "source": [
    "# Race Demographics\n",
    "\n",
    "Values are in percentages. This could be used for a pie chart visual.\n",
    "\n",
    "We can sum male and female per race to simplify the data for the pie chart. \n",
    "\n",
    "We can create an `other` for races not included so we will have a total of 5 variables used instead of the several below:\n",
    "<br><br>\n",
    "\n",
    "`non_hispanic_white_alone_male`\n",
    "\n",
    "`non_hispanic_white_alone_female`\n",
    "\n",
    "`black_alone_male`\n",
    "\n",
    "`black_alone_female`\n",
    "\n",
    "`asian_alone_male`\n",
    "\n",
    "`asian_alone_female`\n",
    "\n",
    "`hispanic_male`\n",
    "\n",
    "`hispanic_female`"
   ]
  },
  {
   "cell_type": "code",
   "execution_count": 110,
   "metadata": {},
   "outputs": [
    {
     "name": "stdout",
     "output_type": "stream",
     "text": [
      "{'non_hispanic_white_alone_male': 0.4379380510965408, 'non_hispanic_white_alone_female': 0.4378250056522722, 'black_alone_male': 0.0036174542165950713, 'black_alone_female': 0.0016956816640289396, 'asian_alone_male': 0.0013565453312231518, 'asian_alone_female': 0.0035044087723264754, 'hispanic_male': 0.05403572236038888, 'hispanic_female': 0.049287813701107845}\n"
     ]
    }
   ],
   "source": [
    "for state in jsondata.keys():\n",
    "\tfor county in jsondata[state].keys():\n",
    "\t\tprint(jsondata[state][county]['race_demographics'])\n",
    "\t\tbreak\n",
    "\tbreak\n",
    "\n",
    "# for headers\n",
    "county_attributes.append('non_hispanic_white_alone')\n",
    "county_attributes.append('black_alone')\n",
    "county_attributes.append('asian_alone')\n",
    "county_attributes.append('hispanic')\n",
    "county_attributes.append('other')"
   ]
  },
  {
   "cell_type": "code",
   "execution_count": 111,
   "metadata": {},
   "outputs": [],
   "source": [
    "new_demographics = dict()\n",
    "\n",
    "for state in jsondata.keys():\n",
    "\tnew_demographics[state] = dict()\n",
    "\n",
    "\tfor county in jsondata[state].keys():\n",
    "\t\t\tnew_demographics[state][county] = dict()\n",
    "\n",
    "\t\t\tnew_demographics[state][county]['non_hispanic_white_alone'] = jsondata[state][county]['race_demographics']['non_hispanic_white_alone_male'] + jsondata[state][county]['race_demographics']['non_hispanic_white_alone_female']\n",
    "\t\t\tnew_demographics[state][county]['black_alone'] = jsondata[state][county]['race_demographics']['black_alone_male'] + jsondata[state][county]['race_demographics']['black_alone_female']\n",
    "\t\t\tnew_demographics[state][county]['asian_alone'] = jsondata[state][county]['race_demographics']['asian_alone_male'] + jsondata[state][county]['race_demographics']['asian_alone_female']\n",
    "\t\t\tnew_demographics[state][county]['hispanic'] = jsondata[state][county]['race_demographics']['hispanic_male'] + jsondata[state][county]['race_demographics']['hispanic_female']\n",
    "\n",
    "\t\t\t# Calculate 'other' category for race demographics\n",
    "\t\t\tpercent_non_other = 0\n",
    "\t\t\tfor val in new_demographics[state][county].values():\n",
    "\t\t\t\tpercent_non_other += val\n",
    "\t\t\t\n",
    "\t\t\tnew_demographics[state][county]['other'] = 1 - percent_non_other\n",
    "\n",
    "\t\t\t# For updating json counties copy of race demographics to the above simplified version\n",
    "\t\t\tjsondata[state][county]['race_demographics'] = new_demographics[state][county]"
   ]
  },
  {
   "cell_type": "markdown",
   "metadata": {},
   "source": [
    "Update `county copy.json` with updated demographics."
   ]
  },
  {
   "cell_type": "code",
   "execution_count": 112,
   "metadata": {},
   "outputs": [],
   "source": [
    "with open(\"counties copy.json\", \"w\") as jsonFile:\n",
    "    json.dump(jsondata, jsonFile, indent=2)"
   ]
  },
  {
   "cell_type": "markdown",
   "metadata": {},
   "source": [
    "# Confirmed Covid Cases\n",
    "\n",
    "Recorded in `YYY-MM-DD` format\n",
    "\n",
    "Simplify the data by making it monthly.\n",
    "\n",
    "`covid-confirmed.YYYY-MM` format"
   ]
  },
  {
   "cell_type": "code",
   "execution_count": 113,
   "metadata": {},
   "outputs": [
    {
     "name": "stdout",
     "output_type": "stream",
     "text": [
      "{'2020-05-04': 9, '2020-05-18': 17, '2020-06-01': 32, '2020-06-15': 34, '2020-06-29': 36, '2020-07-13': 38, '2020-07-27': 48, '2020-08-10': 67, '2020-08-24': 74, '2020-09-07': 95, '2020-09-21': 120, '2020-10-05': 189, '2020-10-19': 243, '2020-11-02': 329, '2020-11-16': 467, '2020-11-30': 603, '2020-12-14': 690, '2020-12-28': 786, '2021-01-11': 886, '2021-01-25': 941, '2021-02-08': 974, '2021-02-22': 984, '2021-03-08': 988, '2021-03-22': 1003, '2021-04-05': 1027, '2021-04-19': 1033, '2021-05-03': 1039, '2021-05-17': 1051, '2021-05-31': 1056, '2021-06-14': 1056, '2021-06-28': 1056, '2021-07-12': 1056, '2021-07-26': 1056, '2021-08-09': 1056, '2021-08-23': 1056}\n"
     ]
    }
   ],
   "source": [
    "# Can be used for slider\n",
    "for state in jsondata.keys():\n",
    "\tfor county in jsondata[state].keys():\n",
    "\t\tprint(jsondata[state][county]['covid-confirmed'])\n",
    "\t\tbreak\n",
    "\tbreak"
   ]
  },
  {
   "cell_type": "markdown",
   "metadata": {},
   "source": [
    "Use `counties_updates.json` to overwrite dates into `covid-confirmed.YYYY-MM` format"
   ]
  },
  {
   "cell_type": "code",
   "execution_count": 114,
   "metadata": {},
   "outputs": [],
   "source": [
    "formatted_cc_data = {}\n",
    "\n",
    "for state in jsondata.keys():\n",
    "    for county in jsondata[state].keys():\n",
    "        \n",
    "\t\t# loop through county YYYY-MM-DD formats\n",
    "        for date in jsondata[state][county]['covid-confirmed']:\n",
    "\t\t\t# sum if YYYY-MM key exists in formatted dictionary\n",
    "            if 'covid-confirmed.'+date[0:7] in formatted_cc_data:\n",
    "                formatted_cc_data['covid-confirmed.' + date[0:7]] += jsondata[state][county]['covid-confirmed'][date]\n",
    "                jsondata[state][county]['covid-confirmed.' + date[0:7]] = formatted_cc_data['covid-confirmed.' + date[0:7]]\n",
    "            else:\n",
    "                # creating YYYY-MM key\n",
    "                formatted_cc_data['covid-confirmed.' + date[0:7]] = jsondata[state][county]['covid-confirmed'][date]\n",
    "                jsondata[state][county]['covid-confirmed.' + date[0:7]] = formatted_cc_data['covid-confirmed.' + date[0:7]]\n",
    "\n",
    "        # delete county 'covid-confirmed' key for this particular statee and county to replace with new format\n",
    "        del jsondata[state][county]['covid-confirmed']\n",
    "        \n",
    "        # clear county data for next county\n",
    "        formatted_cc_data.clear()\n",
    "\n",
    "# overwrite the 'counties copy.json' with the new format\n",
    "with open(\"counties copy.json\", \"w\") as jsonFile:\n",
    "     json.dump(jsondata, jsonFile, indent=2)"
   ]
  },
  {
   "cell_type": "markdown",
   "metadata": {},
   "source": [
    "Verify the new copy has the correct format `covid-confirmed.YYYY-MM`"
   ]
  },
  {
   "cell_type": "code",
   "execution_count": 115,
   "metadata": {},
   "outputs": [
    {
     "name": "stdout",
     "output_type": "stream",
     "text": [
      "31221\n"
     ]
    }
   ],
   "source": [
    "with open(\"counties copy.json\", \"r\") as jsonFile:\n",
    "    jsoncopy = json.load(jsonFile)\n",
    "    print(jsoncopy['New Jersey']['essex county']['covid-confirmed.2020-05'])"
   ]
  },
  {
   "cell_type": "markdown",
   "metadata": {},
   "source": [
    "# Covid Deaths\n",
    "\n",
    "In `YYYY-MM-DD` format. Parse into `YYYY-MM` format.\n",
    "\n",
    "Use same header as confirmed cases above if earliest/latest dates fall are the same."
   ]
  },
  {
   "cell_type": "code",
   "execution_count": 116,
   "metadata": {},
   "outputs": [
    {
     "name": "stdout",
     "output_type": "stream",
     "text": [
      "{'2020-05-04': 0, '2020-05-18': 0, '2020-06-01': 0, '2020-06-15': 0, '2020-06-29': 0, '2020-07-13': 0, '2020-07-27': 0, '2020-08-10': 0, '2020-08-24': 0, '2020-09-07': 0, '2020-09-21': 0, '2020-10-05': 1, '2020-10-19': 2, '2020-11-02': 3, '2020-11-16': 3, '2020-11-30': 5, '2020-12-14': 8, '2020-12-28': 9, '2021-01-11': 9, '2021-01-25': 9, '2021-02-08': 11, '2021-02-22': 11, '2021-03-08': 11, '2021-03-22': 11, '2021-04-05': 11, '2021-04-19': 11, '2021-05-03': 11, '2021-05-17': 11, '2021-05-31': 15, '2021-06-14': 15, '2021-06-28': 15, '2021-07-12': 15, '2021-07-26': 15, '2021-08-09': 15, '2021-08-23': 15}\n"
     ]
    }
   ],
   "source": [
    "for state in jsondata.keys():\n",
    "\tfor county in jsondata[state].keys():\n",
    "\t\tprint(jsondata[state][county]['covid-deaths']) # Should add all covid deaths for each county\n",
    "\t\tbreak\n",
    "\tbreak"
   ]
  },
  {
   "cell_type": "code",
   "execution_count": 117,
   "metadata": {},
   "outputs": [],
   "source": [
    "formatted_cc_data = {}\n",
    "\n",
    "for state in jsondata.keys():\n",
    "    for county in jsondata[state].keys():\n",
    "        \n",
    "\t\t# loop through county YYYY-MM-DD formats\n",
    "        for date in jsondata[state][county]['covid-deaths']:\n",
    "\t\t\t# sum if YYYY-MM exists in formatted dictionary\n",
    "            if 'covid-deaths'+date[0:7] in formatted_cc_data:\n",
    "                formatted_cc_data['covid-deaths.' + date[0:7]] += jsondata[state][county]['covid-deaths'][date]\n",
    "                jsondata[state][county]['covid-deaths.' + date[0:7]] = formatted_cc_data['covid-deaths.' + date[0:7]]\n",
    "            else:\n",
    "                # creating 'covid-deaths.YYYY-MM'\n",
    "                formatted_cc_data['covid-deaths.' + date[0:7]] = jsondata[state][county]['covid-deaths'][date]\n",
    "                jsondata[state][county]['covid-deaths.' + date[0:7]] = formatted_cc_data['covid-deaths.' + date[0:7]]\n",
    "\n",
    "        # delete this county's 'covid-deaths' key for this particular state to replace with new format\n",
    "        del jsondata[state][county]['covid-deaths']\n",
    "\n",
    "        # clear county data for next county\n",
    "        formatted_cc_data.clear()\n",
    "\n",
    "# overwrite the 'counties copy.json' with the new format\n",
    "with open(\"counties copy.json\", \"w\") as jsonFile:\n",
    "    json.dump(jsondata, jsonFile, indent=2)"
   ]
  },
  {
   "cell_type": "code",
   "execution_count": 118,
   "metadata": {},
   "outputs": [
    {
     "name": "stdout",
     "output_type": "stream",
     "text": [
      "1546\n"
     ]
    }
   ],
   "source": [
    "with open(\"counties copy.json\", \"r\") as jsonFile:\n",
    "    jsoncopy = json.load(jsonFile)\n",
    "    print(jsoncopy['New Jersey']['essex county']['covid-deaths.2020-05'])"
   ]
  },
  {
   "cell_type": "markdown",
   "metadata": {},
   "source": [
    "# Number of Police Deaths"
   ]
  },
  {
   "cell_type": "code",
   "execution_count": 12,
   "metadata": {},
   "outputs": [
    {
     "name": "stdout",
     "output_type": "stream",
     "text": [
      "0\n"
     ]
    }
   ],
   "source": [
    "# Theres lots of 0s here, but it can be used maybe? Or maybe for another project?\n",
    "for state in jsondata.keys():\n",
    "\tfor county in jsondata[state].keys():\n",
    "\t\tprint(jsondata[state][county]['police_deaths'])\n",
    "\t\tbreak\n",
    "\tbreak"
   ]
  },
  {
   "cell_type": "markdown",
   "metadata": {},
   "source": [
    "# Fatal Police Shootings\n",
    "\n",
    "`total-YYYY`\n",
    "\n",
    "`unarmed-YYYY`\n",
    "\n",
    "`firearmed-YYYY`"
   ]
  },
  {
   "cell_type": "code",
   "execution_count": 13,
   "metadata": {},
   "outputs": [
    {
     "name": "stdout",
     "output_type": "stream",
     "text": [
      "{'total-2017': 0, 'unarmed-2017': 0, 'firearmed-2017': 0, 'total-2018': 0, 'unarmed-2018': 0, 'firearmed-2018': 0, 'total-2019': 0, 'unarmed-2019': 0, 'firearmed-2019': 0, 'total-2020': 0, 'unarmed-2020': 0, 'firearmed-2020': 0}\n"
     ]
    }
   ],
   "source": [
    "# for state in jsondata.keys():\n",
    "# \tfor county in jsondata[state].keys():\n",
    "# \t\tprint(jsondata[state][county]['fatal_police_shootings'])\n",
    "# \t\tbreak\n",
    "# \tbreak"
   ]
  },
  {
   "cell_type": "markdown",
   "metadata": {},
   "source": [
    "# Number of Police"
   ]
  },
  {
   "cell_type": "code",
   "execution_count": 16,
   "metadata": {},
   "outputs": [],
   "source": [
    "# for state in jsondata.keys():\n",
    "# \tfor county in jsondata[state].keys():\n",
    "# \t\tprint(jsondata[state][county]['num_police'])\n",
    "# \t\tbreak\n",
    "# \tbreak"
   ]
  },
  {
   "cell_type": "markdown",
   "metadata": {},
   "source": [
    "# Bureau of Labor Statistics (BLS)\n",
    "\n",
    "{ `YYYY` : { `labor_force`, `employed`, `unemployed`} }"
   ]
  },
  {
   "cell_type": "code",
   "execution_count": 17,
   "metadata": {},
   "outputs": [
    {
     "name": "stdout",
     "output_type": "stream",
     "text": [
      "{'2004': {'labor_force': 5538.0, 'employed': 5378.0, 'unemployed': 160.0}, '2008': {'labor_force': 4938.0, 'employed': 4794.0, 'unemployed': 144.0}, '2012': {'labor_force': 4915.0, 'employed': 4763.0, 'unemployed': 152.0}, '2016': {'labor_force': 4711.0, 'employed': 4575.0, 'unemployed': 136.0}, '2020': {'labor_force': 4830.0, 'employed': 4708.0, 'unemployed': 122.0}}\n"
     ]
    }
   ],
   "source": [
    "# This would be great to find out the unemployment trends up until 2020\n",
    "\n",
    "# for state in jsondata.keys():\n",
    "# \tfor county in jsondata[state].keys():\n",
    "# \t\tprint(jsondata[state][county]['bls'])\n",
    "# \t\tbreak\n",
    "# \tbreak"
   ]
  },
  {
   "cell_type": "markdown",
   "metadata": {},
   "source": [
    "# Number of Deaths\n",
    "\n",
    "`suicides`\n",
    "\n",
    "`firearm suicides`\n",
    "\n",
    "`homicides`\n",
    "\n",
    "`vehicle`"
   ]
  },
  {
   "cell_type": "code",
   "execution_count": 18,
   "metadata": {},
   "outputs": [
    {
     "name": "stdout",
     "output_type": "stream",
     "text": [
      "{'suicides': None, 'firearm suicides': None, 'homicides': None, 'vehicle': 13}\n"
     ]
    }
   ],
   "source": [
    "# suicides, firearm suicides, homicides, vehicle\n",
    "for state in jsondata.keys():\n",
    "\tfor county in jsondata[state].keys():\n",
    "\t\tprint(jsondata[state][county]['deaths'])\n",
    "\t\tbreak\n",
    "\tbreak"
   ]
  },
  {
   "cell_type": "markdown",
   "metadata": {},
   "source": [
    "# Age Demographics\n",
    "\n",
    "Ages are grouped up into ranges. Values are percentages\n",
    "\n",
    "`0-4`\n",
    "\n",
    "`5-9`\n",
    "\n",
    "`10-14`\n",
    "\n",
    "`15-19`\n",
    "\n",
    "`20-24`\n",
    "\n",
    "`25-29`\n",
    "\n",
    "`30-34`\n",
    "\n",
    "`35-39`\n",
    "\n",
    "`40-44`\n",
    "\n",
    "`45-49`\n",
    "\n",
    "`50-54`\n",
    "\n",
    "`55-59`\n",
    "\n",
    "`60-64`\n",
    "\n",
    "`65-69`\n",
    "\n",
    "`70-74`\n",
    "\n",
    "`75-79`\n",
    "\n",
    "`80-84`\n",
    "\n",
    "`85+`"
   ]
  },
  {
   "cell_type": "code",
   "execution_count": 22,
   "metadata": {},
   "outputs": [
    {
     "name": "stdout",
     "output_type": "stream",
     "text": [
      "{'0-4': 0.06647072122993443, '5-9': 0.06307935790187655, '10-14': 0.06940990278091792, '15-19': 0.06703594845127742, '20-24': 0.05527922224734343, '25-29': 0.05188785891928555, '30-34': 0.0505313135880624, '35-39': 0.0561835858014922, '40-44': 0.047139950260004525, '45-49': 0.047592132037078905, '50-54': 0.0588966764639385, '55-59': 0.07200994799909563, '60-64': 0.07087949355640967, '65-69': 0.056861858467103774, '70-74': 0.05007913181098802, '75-79': 0.03979199638254578, '80-84': 0.03199186072801266, '85+': 0.044879041374632604}\n"
     ]
    }
   ],
   "source": [
    "# Ages are grouped by several range of values\n",
    "\n",
    "# for state in jsondata.keys():\n",
    "# \tfor county in jsondata[state].keys():\n",
    "# \t\tprint(jsondata[state][county]['age_demographics'])\n",
    "# \t\tbreak\n",
    "# \tbreak"
   ]
  },
  {
   "cell_type": "markdown",
   "metadata": {},
   "source": [
    "## Additional Notes:\n",
    "\n",
    "### There are <strong>several</strong> more variables of data that can be used. These are just a few that can be used for the Data Visualization project."
   ]
  },
  {
   "cell_type": "markdown",
   "metadata": {},
   "source": [
    "# Building Header for CSV file"
   ]
  },
  {
   "cell_type": "code",
   "execution_count": 119,
   "metadata": {},
   "outputs": [
    {
     "name": "stdout",
     "output_type": "stream",
     "text": [
      "['state', 'county', 'living_wage', 'food_costs', 'medical_costs', 'housing_costs', 'tax_costs', 'poverty-rate', 'avg_income', 'male', 'female', 'non_hispanic_white_alone', 'black_alone', 'asian_alone', 'hispanic', 'other']\n"
     ]
    }
   ],
   "source": [
    "# initial header\n",
    "header = ['state', 'county']\n",
    "\n",
    "# add other headers by using attributes found above\n",
    "header.extend(county_attributes)\n",
    "\n",
    "\n",
    "print(header)"
   ]
  },
  {
   "cell_type": "code",
   "execution_count": 124,
   "metadata": {},
   "outputs": [
    {
     "name": "stdout",
     "output_type": "stream",
     "text": [
      "['state', 'county', 'living_wage', 'food_costs', 'medical_costs', 'housing_costs', 'tax_costs', 'poverty-rate', 'avg_income', 'male', 'female', 'non_hispanic_white_alone', 'black_alone', 'asian_alone', 'hispanic', 'other', 'covid-confirmed.2020-05', 'covid-confirmed.2020-06', 'covid-confirmed.2020-07', 'covid-confirmed.2020-08', 'covid-confirmed.2020-09', 'covid-confirmed.2020-10', 'covid-confirmed.2020-11', 'covid-confirmed.2020-12', 'covid-confirmed.2021-01', 'covid-confirmed.2021-02', 'covid-confirmed.2021-03', 'covid-confirmed.2021-04', 'covid-confirmed.2021-05', 'covid-confirmed.2021-06', 'covid-confirmed.2021-07', 'covid-confirmed.2021-08', 'covid-deaths.2020-05', 'covid-deaths.2020-06', 'covid-deaths.2020-07', 'covid-deaths.2020-08', 'covid-deaths.2020-09', 'covid-deaths.2020-10', 'covid-deaths.2020-11', 'covid-deaths.2020-12', 'covid-deaths.2021-01', 'covid-deaths.2021-02', 'covid-deaths.2021-03', 'covid-deaths.2021-04', 'covid-deaths.2021-05', 'covid-deaths.2021-06', 'covid-deaths.2021-07', 'covid-deaths.2021-08']\n"
     ]
    }
   ],
   "source": [
    "with open('counties copy.json') as f:\n",
    "    data = json.load(f)\n",
    "\n",
    "for state in data:\n",
    "    for county in data[state]:\n",
    "        for attr in data[state][county].keys():\n",
    "            if 'covid-deaths' in attr or 'covid-confirmed' in attr:\n",
    "                # print(\"{}: {}\".format(attr, jsondata[state][county][attr]))\n",
    "                header.append(attr)\n",
    "        break\n",
    "    break\n",
    "\n",
    "print(header)"
   ]
  },
  {
   "cell_type": "markdown",
   "metadata": {},
   "source": [
    "# Inserting Headers and Values into csv"
   ]
  },
  {
   "cell_type": "code",
   "execution_count": null,
   "metadata": {},
   "outputs": [],
   "source": [
    "data_file = open('counties.csv', 'w', newline='')\n",
    "csv_writer = csv.writer(data_file)\n",
    "\n"
   ]
  }
 ],
 "metadata": {
  "interpreter": {
   "hash": "92fec3ec821349e95a4037d83796a8ff4b4d98053f0a50185097dd49dd843b42"
  },
  "kernelspec": {
   "display_name": "Python 3.7.10 64-bit ('base': conda)",
   "name": "python3"
  },
  "language_info": {
   "codemirror_mode": {
    "name": "ipython",
    "version": 3
   },
   "file_extension": ".py",
   "mimetype": "text/x-python",
   "name": "python",
   "nbconvert_exporter": "python",
   "pygments_lexer": "ipython3",
   "version": "3.7.10"
  },
  "orig_nbformat": 4
 },
 "nbformat": 4,
 "nbformat_minor": 2
}
